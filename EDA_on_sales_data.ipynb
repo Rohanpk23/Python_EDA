{
  "nbformat": 4,
  "nbformat_minor": 0,
  "metadata": {
    "colab": {
      "name": "EDA on sales data ",
      "provenance": [],
      "collapsed_sections": [],
      "mount_file_id": "1Yr5a6hjIct0s4d-0O6ZbfbkElqiNnF6y",
      "authorship_tag": "ABX9TyPOz4Hgr2cTlu/On/JNPVFK",
      "include_colab_link": true
    },
    "kernelspec": {
      "name": "python3",
      "display_name": "Python 3"
    }
  },
  "cells": [
    {
      "cell_type": "markdown",
      "metadata": {
        "id": "view-in-github",
        "colab_type": "text"
      },
      "source": [
        "<a href=\"https://colab.research.google.com/github/Rohanpk23/Python_EDA/blob/main/EDA_on_sales_data.ipynb\" target=\"_parent\"><img src=\"https://colab.research.google.com/assets/colab-badge.svg\" alt=\"Open In Colab\"/></a>"
      ]
    },
    {
      "cell_type": "code",
      "metadata": {
        "id": "WsuzjhjwDdRd"
      },
      "source": [
        "import pandas as pd\n",
        "import numpy as np\n",
        "import matplotlib.pyplot as plt\n",
        "from matplotlib.ticker import EngFormatter"
      ],
      "execution_count": null,
      "outputs": []
    },
    {
      "cell_type": "code",
      "metadata": {
        "id": "q4mBzpo8GRF7",
        "outputId": "c222e215-bd56-40d3-aef4-277d8407a79d",
        "colab": {
          "base_uri": "https://localhost:8080/",
          "height": 455
        }
      },
      "source": [
        "# Original dataset\n",
        "sales = pd.read_csv(\"/content/drive/My Drive/Colab Notebooks/sales_subset.csv\", parse_dates = [\"date\"], index_col = 0)\n",
        "sales = sales.set_index(\"date\")\n",
        "sales = sales.sort_index()\n",
        "sl = sales\n",
        "sl"
      ],
      "execution_count": null,
      "outputs": [
        {
          "output_type": "execute_result",
          "data": {
            "text/html": [
              "<div>\n",
              "<style scoped>\n",
              "    .dataframe tbody tr th:only-of-type {\n",
              "        vertical-align: middle;\n",
              "    }\n",
              "\n",
              "    .dataframe tbody tr th {\n",
              "        vertical-align: top;\n",
              "    }\n",
              "\n",
              "    .dataframe thead th {\n",
              "        text-align: right;\n",
              "    }\n",
              "</style>\n",
              "<table border=\"1\" class=\"dataframe\">\n",
              "  <thead>\n",
              "    <tr style=\"text-align: right;\">\n",
              "      <th></th>\n",
              "      <th>store</th>\n",
              "      <th>type</th>\n",
              "      <th>department</th>\n",
              "      <th>weekly_sales</th>\n",
              "      <th>is_holiday</th>\n",
              "      <th>temperature_c</th>\n",
              "      <th>fuel_price_usd_per_l</th>\n",
              "      <th>unemployment</th>\n",
              "    </tr>\n",
              "    <tr>\n",
              "      <th>date</th>\n",
              "      <th></th>\n",
              "      <th></th>\n",
              "      <th></th>\n",
              "      <th></th>\n",
              "      <th></th>\n",
              "      <th></th>\n",
              "      <th></th>\n",
              "      <th></th>\n",
              "    </tr>\n",
              "  </thead>\n",
              "  <tbody>\n",
              "    <tr>\n",
              "      <th>2010-02-05</th>\n",
              "      <td>1</td>\n",
              "      <td>A</td>\n",
              "      <td>1</td>\n",
              "      <td>24924.50</td>\n",
              "      <td>False</td>\n",
              "      <td>5.727778</td>\n",
              "      <td>0.679451</td>\n",
              "      <td>8.106</td>\n",
              "    </tr>\n",
              "    <tr>\n",
              "      <th>2010-02-05</th>\n",
              "      <td>19</td>\n",
              "      <td>A</td>\n",
              "      <td>13</td>\n",
              "      <td>38597.52</td>\n",
              "      <td>False</td>\n",
              "      <td>-6.133333</td>\n",
              "      <td>0.780365</td>\n",
              "      <td>8.350</td>\n",
              "    </tr>\n",
              "    <tr>\n",
              "      <th>2010-02-05</th>\n",
              "      <td>2</td>\n",
              "      <td>A</td>\n",
              "      <td>31</td>\n",
              "      <td>3840.21</td>\n",
              "      <td>False</td>\n",
              "      <td>4.550000</td>\n",
              "      <td>0.679451</td>\n",
              "      <td>8.324</td>\n",
              "    </tr>\n",
              "    <tr>\n",
              "      <th>2010-02-05</th>\n",
              "      <td>19</td>\n",
              "      <td>A</td>\n",
              "      <td>14</td>\n",
              "      <td>17590.59</td>\n",
              "      <td>False</td>\n",
              "      <td>-6.133333</td>\n",
              "      <td>0.780365</td>\n",
              "      <td>8.350</td>\n",
              "    </tr>\n",
              "    <tr>\n",
              "      <th>2010-02-05</th>\n",
              "      <td>19</td>\n",
              "      <td>A</td>\n",
              "      <td>16</td>\n",
              "      <td>4929.87</td>\n",
              "      <td>False</td>\n",
              "      <td>-6.133333</td>\n",
              "      <td>0.780365</td>\n",
              "      <td>8.350</td>\n",
              "    </tr>\n",
              "    <tr>\n",
              "      <th>...</th>\n",
              "      <td>...</td>\n",
              "      <td>...</td>\n",
              "      <td>...</td>\n",
              "      <td>...</td>\n",
              "      <td>...</td>\n",
              "      <td>...</td>\n",
              "      <td>...</td>\n",
              "      <td>...</td>\n",
              "    </tr>\n",
              "    <tr>\n",
              "      <th>2012-10-05</th>\n",
              "      <td>6</td>\n",
              "      <td>A</td>\n",
              "      <td>99</td>\n",
              "      <td>440.00</td>\n",
              "      <td>False</td>\n",
              "      <td>21.577778</td>\n",
              "      <td>0.955511</td>\n",
              "      <td>5.329</td>\n",
              "    </tr>\n",
              "    <tr>\n",
              "      <th>2012-10-05</th>\n",
              "      <td>20</td>\n",
              "      <td>A</td>\n",
              "      <td>99</td>\n",
              "      <td>660.00</td>\n",
              "      <td>False</td>\n",
              "      <td>15.983333</td>\n",
              "      <td>1.052726</td>\n",
              "      <td>7.293</td>\n",
              "    </tr>\n",
              "    <tr>\n",
              "      <th>2012-10-05</th>\n",
              "      <td>39</td>\n",
              "      <td>A</td>\n",
              "      <td>99</td>\n",
              "      <td>915.00</td>\n",
              "      <td>False</td>\n",
              "      <td>22.250000</td>\n",
              "      <td>0.955511</td>\n",
              "      <td>6.228</td>\n",
              "    </tr>\n",
              "    <tr>\n",
              "      <th>2012-10-12</th>\n",
              "      <td>14</td>\n",
              "      <td>A</td>\n",
              "      <td>96</td>\n",
              "      <td>3.00</td>\n",
              "      <td>False</td>\n",
              "      <td>12.483333</td>\n",
              "      <td>1.056689</td>\n",
              "      <td>8.667</td>\n",
              "    </tr>\n",
              "    <tr>\n",
              "      <th>2012-10-26</th>\n",
              "      <td>6</td>\n",
              "      <td>A</td>\n",
              "      <td>77</td>\n",
              "      <td>-21.63</td>\n",
              "      <td>False</td>\n",
              "      <td>22.411111</td>\n",
              "      <td>0.926188</td>\n",
              "      <td>5.329</td>\n",
              "    </tr>\n",
              "  </tbody>\n",
              "</table>\n",
              "<p>10774 rows × 8 columns</p>\n",
              "</div>"
            ],
            "text/plain": [
              "            store type  ...  fuel_price_usd_per_l  unemployment\n",
              "date                    ...                                    \n",
              "2010-02-05      1    A  ...              0.679451         8.106\n",
              "2010-02-05     19    A  ...              0.780365         8.350\n",
              "2010-02-05      2    A  ...              0.679451         8.324\n",
              "2010-02-05     19    A  ...              0.780365         8.350\n",
              "2010-02-05     19    A  ...              0.780365         8.350\n",
              "...           ...  ...  ...                   ...           ...\n",
              "2012-10-05      6    A  ...              0.955511         5.329\n",
              "2012-10-05     20    A  ...              1.052726         7.293\n",
              "2012-10-05     39    A  ...              0.955511         6.228\n",
              "2012-10-12     14    A  ...              1.056689         8.667\n",
              "2012-10-26      6    A  ...              0.926188         5.329\n",
              "\n",
              "[10774 rows x 8 columns]"
            ]
          },
          "metadata": {
            "tags": []
          },
          "execution_count": 65
        }
      ]
    },
    {
      "cell_type": "markdown",
      "metadata": {
        "id": "qoofIbhEyc5-"
      },
      "source": [
        "No null values in any of the column"
      ]
    },
    {
      "cell_type": "code",
      "metadata": {
        "id": "ICNV-eDayWtF",
        "outputId": "72a84841-7590-4a9d-ee76-8b9e66ee68d5",
        "colab": {
          "base_uri": "https://localhost:8080/"
        }
      },
      "source": [
        "sl.isna().sum()"
      ],
      "execution_count": null,
      "outputs": [
        {
          "output_type": "execute_result",
          "data": {
            "text/plain": [
              "store                   0\n",
              "type                    0\n",
              "department              0\n",
              "weekly_sales            0\n",
              "is_holiday              0\n",
              "temperature_c           0\n",
              "fuel_price_usd_per_l    0\n",
              "unemployment            0\n",
              "dtype: int64"
            ]
          },
          "metadata": {
            "tags": []
          },
          "execution_count": 66
        }
      ]
    },
    {
      "cell_type": "code",
      "metadata": {
        "id": "dD4I6XOpE9nV",
        "outputId": "7dc9abbb-53da-44d9-e61c-93273cf65a9b",
        "colab": {
          "base_uri": "https://localhost:8080/",
          "height": 300
        }
      },
      "source": [
        "# Weekly sales, temp, fuel price and unempl\n",
        "num_data = [\"weekly_sales\", \"temperature_c\", \"fuel_price_usd_per_l\", \"unemployment\"]\n",
        "sl[num_data].describe()"
      ],
      "execution_count": null,
      "outputs": [
        {
          "output_type": "execute_result",
          "data": {
            "text/html": [
              "<div>\n",
              "<style scoped>\n",
              "    .dataframe tbody tr th:only-of-type {\n",
              "        vertical-align: middle;\n",
              "    }\n",
              "\n",
              "    .dataframe tbody tr th {\n",
              "        vertical-align: top;\n",
              "    }\n",
              "\n",
              "    .dataframe thead th {\n",
              "        text-align: right;\n",
              "    }\n",
              "</style>\n",
              "<table border=\"1\" class=\"dataframe\">\n",
              "  <thead>\n",
              "    <tr style=\"text-align: right;\">\n",
              "      <th></th>\n",
              "      <th>weekly_sales</th>\n",
              "      <th>temperature_c</th>\n",
              "      <th>fuel_price_usd_per_l</th>\n",
              "      <th>unemployment</th>\n",
              "    </tr>\n",
              "  </thead>\n",
              "  <tbody>\n",
              "    <tr>\n",
              "      <th>count</th>\n",
              "      <td>10774.000000</td>\n",
              "      <td>10774.000000</td>\n",
              "      <td>10774.000000</td>\n",
              "      <td>10774.000000</td>\n",
              "    </tr>\n",
              "    <tr>\n",
              "      <th>mean</th>\n",
              "      <td>23843.950149</td>\n",
              "      <td>15.731978</td>\n",
              "      <td>0.749746</td>\n",
              "      <td>8.082009</td>\n",
              "    </tr>\n",
              "    <tr>\n",
              "      <th>std</th>\n",
              "      <td>30220.387557</td>\n",
              "      <td>9.922446</td>\n",
              "      <td>0.059494</td>\n",
              "      <td>0.624355</td>\n",
              "    </tr>\n",
              "    <tr>\n",
              "      <th>min</th>\n",
              "      <td>-1098.000000</td>\n",
              "      <td>-8.366667</td>\n",
              "      <td>0.664129</td>\n",
              "      <td>3.879000</td>\n",
              "    </tr>\n",
              "    <tr>\n",
              "      <th>25%</th>\n",
              "      <td>3867.115000</td>\n",
              "      <td>7.583333</td>\n",
              "      <td>0.708246</td>\n",
              "      <td>7.795000</td>\n",
              "    </tr>\n",
              "    <tr>\n",
              "      <th>50%</th>\n",
              "      <td>12049.065000</td>\n",
              "      <td>16.966667</td>\n",
              "      <td>0.743381</td>\n",
              "      <td>8.099000</td>\n",
              "    </tr>\n",
              "    <tr>\n",
              "      <th>75%</th>\n",
              "      <td>32349.850000</td>\n",
              "      <td>24.166667</td>\n",
              "      <td>0.781421</td>\n",
              "      <td>8.360000</td>\n",
              "    </tr>\n",
              "    <tr>\n",
              "      <th>max</th>\n",
              "      <td>293966.050000</td>\n",
              "      <td>33.827778</td>\n",
              "      <td>1.107674</td>\n",
              "      <td>9.765000</td>\n",
              "    </tr>\n",
              "  </tbody>\n",
              "</table>\n",
              "</div>"
            ],
            "text/plain": [
              "        weekly_sales  temperature_c  fuel_price_usd_per_l  unemployment\n",
              "count   10774.000000   10774.000000          10774.000000  10774.000000\n",
              "mean    23843.950149      15.731978              0.749746      8.082009\n",
              "std     30220.387557       9.922446              0.059494      0.624355\n",
              "min     -1098.000000      -8.366667              0.664129      3.879000\n",
              "25%      3867.115000       7.583333              0.708246      7.795000\n",
              "50%     12049.065000      16.966667              0.743381      8.099000\n",
              "75%     32349.850000      24.166667              0.781421      8.360000\n",
              "max    293966.050000      33.827778              1.107674      9.765000"
            ]
          },
          "metadata": {
            "tags": []
          },
          "execution_count": 67
        }
      ]
    },
    {
      "cell_type": "markdown",
      "metadata": {
        "id": "c27V3cXdpZ1h"
      },
      "source": [
        "**Frequency distribution of Areas' weekly sales, tempereture, fuel price and unemployment density**.\n",
        "\n",
        "Quick references: [For Layout details](https://matplotlib.org/tutorials/intermediate/tight_layout_guide.html#sphx-glr-tutorials-intermediate-tight-layout-guide-py), \n",
        "[Adding new line in titles](https://stackoverflow.com/questions/2660319/putting-newline-in-matplotlib-label-with-tex-in-python),\n",
        "[Engineered notation in x or y ticks](https://matplotlib.org/3.1.1/gallery/text_labels_and_annotations/engineering_formatter.html) \n"
      ]
    },
    {
      "cell_type": "code",
      "metadata": {
        "id": "3W0CYny3cPfJ",
        "outputId": "8ab1a48c-8e44-4b44-f3a7-729c70a94359",
        "colab": {
          "base_uri": "https://localhost:8080/",
          "height": 602
        }
      },
      "source": [
        "# fig object stores the layout and ax object has the figure details.\n",
        "fig, ax = plt.subplots(2,2, dpi = 150)\n",
        "\n",
        "# Weekly sales histogram\n",
        "ax[0,0].hist(sl.weekly_sales, color = \"r\", edgecolor = 'k', lw = 1, bins = range(-10000, 300000, 50000))\n",
        "ax[0,0].set_xlabel(\"Weekly Sales (in $)\", color = \"r\",fontsize = 8)\n",
        "ax[0,0].set_ylabel(\"# of observation\", color = \"r\",fontsize = 8)\n",
        "ax[0,0].set_title(\"Weekly sales figure distribution \\n (in $)\", color = \"r\", fontsize = 8)\n",
        "\n",
        "ax[0,0].set_yticks(range(0,10000,2000))\n",
        "ax[0,0].set_xticks(range(-10000, 300000, 100000))\n",
        "ax[0,0].tick_params(labelsize = 8)\n",
        "f = EngFormatter(unit='')\n",
        "ax[0,0].xaxis.set_major_formatter(f)\n",
        "ax[0,0].grid(lw=0.4)\n",
        "\n",
        "# Temperature histogram\n",
        "ax[0,1].hist(sl.temperature_c, color = \"g\", edgecolor = 'k', lw = 1, bins = range(-10,40,5))\n",
        "ax[0,1].set_xlabel(\"Area Temperature (in Celsius)\", color = \"g\", fontsize = 8)\n",
        "ax[0,1].set_ylabel(\"# of observation\", color = \"g\",fontsize = 8)\n",
        "ax[0,1].set_title(\"Distribution of area's Temperature \\n (in Celsius)\", color = \"g\", fontsize = 8)\n",
        "\n",
        "ax[0,1].set_yticks(range(0,3000,500))\n",
        "ax[0,1].set_xticks(range(-10,40,10))\n",
        "ax[0,1].tick_params(labelsize = 8)\n",
        "ax[0,1].grid(lw=0.4)\n",
        "\n",
        "# Fuel Price histogram\n",
        "ax[1,0].hist(sl.fuel_price_usd_per_l, color = \"orange\", edgecolor = 'k', lw = 1, bins = np.arange(0.6,1.4,0.1))\n",
        "ax[1,0].set_xlabel(\"Fuel Price per Litre (in $)\", color = \"orange\", fontsize = 8)\n",
        "ax[1,0].set_ylabel(\"# of observation\", color = \"orange\",fontsize = 8)\n",
        "ax[1,0].set_title(\"Distribution of fuel price \\n (per litre in $)\", color = \"orange\", fontsize = 8)\n",
        "\n",
        "ax[1,0].set_yticks(range(0,8000,2000))\n",
        "ax[1,0].set_xticks(np.arange(0.6,1.4,0.2))\n",
        "ax[1,0].tick_params(labelsize = 8)\n",
        "ax[1,0].grid(lw=0.4)\n",
        "\n",
        "# Unemployment histogram\n",
        "ax[1,1].hist(sl.unemployment, color = \"blue\", edgecolor = 'k', lw = 0.7, bins = np.arange(3,11,1))\n",
        "ax[1,1].set_xlabel(\"Unemployed every 100 people\", color = \"blue\", fontsize = 8)\n",
        "ax[1,1].set_ylabel(\"# of observation\", color = \"blue\",fontsize = 8)\n",
        "ax[1,1].set_title(\"Unemployed people for every \\n 100 people in the area\", color = \"blue\", fontsize = 8)\n",
        "\n",
        "ax[1,1].set_yticks(range(0,8000,2000))\n",
        "ax[1,1].set_xticks(np.arange(3,11,2))\n",
        "ax[1,1].tick_params(labelsize = 8)\n",
        "ax[1,1].grid(lw=0.4)\n",
        "\n",
        "# Takes care of spacing\n",
        "fig.tight_layout()\n",
        "plt.show()"
      ],
      "execution_count": null,
      "outputs": [
        {
          "output_type": "display_data",
          "data": {
            "image/png": "[encoded data removed]",
            "text/plain": [
              "<Figure size 900x600 with 4 Axes>"
            ]
          },
          "metadata": {
            "tags": [],
            "needs_background": "light"
          }
        }
      ]
    },
    {
      "cell_type": "markdown",
      "metadata": {
        "id": "DYDw2YpTIHW4"
      },
      "source": [
        "There are **12** unique stores that are further identified by their store type ID and department ID. Store types are **A (9872) & B (902)**. There are **80 departments** **bold text**."
      ]
    },
    {
      "cell_type": "code",
      "metadata": {
        "id": "j4Gl2fTGLha7",
        "outputId": "a88ea222-ee7b-4162-fc8e-17a9fc5bb9cb",
        "colab": {
          "base_uri": "https://localhost:8080/"
        }
      },
      "source": [
        "# All unique store types\n",
        "tp = sl.groupby(\"type\")[\"type\"].count()\n",
        "tp"
      ],
      "execution_count": null,
      "outputs": [
        {
          "output_type": "execute_result",
          "data": {
            "text/plain": [
              "type\n",
              "A    9872\n",
              "B     902\n",
              "Name: type, dtype: int64"
            ]
          },
          "metadata": {
            "tags": []
          },
          "execution_count": 69
        }
      ]
    },
    {
      "cell_type": "code",
      "metadata": {
        "id": "VVGR2hrujd-M",
        "outputId": "67099a5a-ee71-4f94-a93d-9507829e9b18",
        "colab": {
          "base_uri": "https://localhost:8080/"
        }
      },
      "source": [
        "# All unique department ID's\n",
        "dp = sl.groupby(\"department\")[\"department\"].count().sort_values(ascending = True)\n",
        "dp"
      ],
      "execution_count": null,
      "outputs": [
        {
          "output_type": "execute_result",
          "data": {
            "text/plain": [
              "department\n",
              "43      2\n",
              "39      7\n",
              "77     39\n",
              "78     56\n",
              "50     72\n",
              "     ... \n",
              "25    144\n",
              "24    144\n",
              "23    144\n",
              "30    144\n",
              "41    144\n",
              "Name: department, Length: 80, dtype: int64"
            ]
          },
          "metadata": {
            "tags": []
          },
          "execution_count": 70
        }
      ]
    },
    {
      "cell_type": "code",
      "metadata": {
        "id": "YfYx3vAblMuA",
        "outputId": "0e405f74-f527-43a7-c1ab-07bfd138401e",
        "colab": {
          "base_uri": "https://localhost:8080/"
        }
      },
      "source": [
        "# All unique store ID's\n",
        "st = sl.groupby(\"store\")[\"store\"].count()\n",
        "print('Total Stores : ' + str(st.size))\n",
        "st"
      ],
      "execution_count": null,
      "outputs": [
        {
          "output_type": "stream",
          "text": [
            "Total Stores : 12\n"
          ],
          "name": "stdout"
        },
        {
          "output_type": "execute_result",
          "data": {
            "text/plain": [
              "store\n",
              "1     901\n",
              "2     897\n",
              "4     901\n",
              "6     894\n",
              "10    902\n",
              "13    913\n",
              "14    885\n",
              "19    906\n",
              "20    910\n",
              "27    900\n",
              "31    890\n",
              "39    875\n",
              "Name: store, dtype: int64"
            ]
          },
          "metadata": {
            "tags": []
          },
          "execution_count": 71
        }
      ]
    },
    {
      "cell_type": "markdown",
      "metadata": {
        "id": "pFJDyRAGgw2b"
      },
      "source": [
        "**Analyzing the Time series data to show daily, monthly and yearly revenue generated**"
      ]
    },
    {
      "cell_type": "code",
      "metadata": {
        "id": "8tzqVfbKpb4t",
        "outputId": "4c1a4508-0fd8-4be3-a9e7-04cd66c8c967",
        "colab": {
          "base_uri": "https://localhost:8080/",
          "height": 175
        }
      },
      "source": [
        "# Year wise total and average sales\n",
        "Tot_Yearly_sales = sl.groupby(sl.index.year)[\"weekly_sales\"].agg([np.sum, np.mean])\n",
        "Tot_Yearly_sales"
      ],
      "execution_count": null,
      "outputs": [
        {
          "output_type": "execute_result",
          "data": {
            "text/html": [
              "<div>\n",
              "<style scoped>\n",
              "    .dataframe tbody tr th:only-of-type {\n",
              "        vertical-align: middle;\n",
              "    }\n",
              "\n",
              "    .dataframe tbody tr th {\n",
              "        vertical-align: top;\n",
              "    }\n",
              "\n",
              "    .dataframe thead th {\n",
              "        text-align: right;\n",
              "    }\n",
              "</style>\n",
              "<table border=\"1\" class=\"dataframe\">\n",
              "  <thead>\n",
              "    <tr style=\"text-align: right;\">\n",
              "      <th></th>\n",
              "      <th>sum</th>\n",
              "      <th>mean</th>\n",
              "    </tr>\n",
              "    <tr>\n",
              "      <th>date</th>\n",
              "      <th></th>\n",
              "      <th></th>\n",
              "    </tr>\n",
              "  </thead>\n",
              "  <tbody>\n",
              "    <tr>\n",
              "      <th>2010</th>\n",
              "      <td>2.377379e+08</td>\n",
              "      <td>24730.871917</td>\n",
              "    </tr>\n",
              "    <tr>\n",
              "      <th>2011</th>\n",
              "      <td>1.914128e+07</td>\n",
              "      <td>18074.865543</td>\n",
              "    </tr>\n",
              "    <tr>\n",
              "      <th>2012</th>\n",
              "      <td>1.556455e+04</td>\n",
              "      <td>152.593627</td>\n",
              "    </tr>\n",
              "  </tbody>\n",
              "</table>\n",
              "</div>"
            ],
            "text/plain": [
              "               sum          mean\n",
              "date                            \n",
              "2010  2.377379e+08  24730.871917\n",
              "2011  1.914128e+07  18074.865543\n",
              "2012  1.556455e+04    152.593627"
            ]
          },
          "metadata": {
            "tags": []
          },
          "execution_count": 72
        }
      ]
    },
    {
      "cell_type": "code",
      "metadata": {
        "id": "RLYYaxH9ldfs"
      },
      "source": [
        "# Daily Sales for every year\n",
        "Daily_sales = sl.groupby(sl.index)[\"weekly_sales\"].sum()\n",
        "Daily_sales2010 = Daily_sales.loc['2010']\n",
        "Daily_sales2011 = Daily_sales.loc['2011']\n",
        "Daily_sales2012 = Daily_sales.loc['2012']"
      ],
      "execution_count": null,
      "outputs": []
    },
    {
      "cell_type": "code",
      "metadata": {
        "id": "Nok2uJUErv-v",
        "outputId": "66889800-5bb0-4651-948e-756adb3d6deb",
        "colab": {
          "base_uri": "https://localhost:8080/",
          "height": 585
        }
      },
      "source": [
        "# figure size and layout\n",
        "fig0, ax0 = plt.subplots(3,1)\n",
        "fig0.set_size_inches (10, 8)\n",
        "\n",
        "# Plotting\n",
        "ax0[0].scatter(Daily_sales2010.index, Daily_sales2010[:], label = '2010', marker = 'o' )\n",
        "ax0[1].scatter(Daily_sales2011.index, Daily_sales2011[:], color = 'g', label = '2011')\n",
        "ax0[2].scatter(Daily_sales2012.index, Daily_sales2012[:], color = 'red', label = '2012')\n",
        "\n",
        "# Labelling\n",
        "ax0[0].set_ylabel('Total daily revenue ($)')\n",
        "ax0[1].set_ylabel('Total daily revenue($)')\n",
        "ax0[2].set_ylabel('Total daily revenue ($)')\n",
        "ax0[0].set_title(\"2010 Sales\")\n",
        "ax0[1].set_title(\"2011 Sales\")\n",
        "ax0[2].set_title(\"2012 Sales\")\n",
        "\n",
        "# Formatting\n",
        "f = EngFormatter(unit = '')\n",
        "ax0[0].yaxis.set_major_formatter(f)\n",
        "ax0[1].yaxis.set_major_formatter(f)\n",
        "ax0[2].yaxis.set_major_formatter(f)\n",
        "\n",
        "# Ticks\n",
        "ax0[0].set_yticks(np.arange(-1e6, 30e6, 4e6))\n",
        "ax0[1].set_yticks(np.arange(-.5e6, 21e6, 5e6))\n",
        "ax0[2].set_yticks(np.arange(-1e3, 9e3, 1e3))\n",
        "\n",
        "# Grid setting\n",
        "ax0[0].grid()\n",
        "ax0[1].grid()\n",
        "ax0[2].grid()\n",
        "\n",
        "# So that the figures don't overlap on each other\n",
        "fig0.tight_layout()\n",
        "plt.show()"
      ],
      "execution_count": null,
      "outputs": [
        {
          "output_type": "display_data",
          "data": {
            "image/png": "[encoded data removed]",
            "text/plain": [
              "<Figure size 720x576 with 3 Axes>"
            ]
          },
          "metadata": {
            "tags": [],
            "needs_background": "light"
          }
        }
      ]
    },
    {
      "cell_type": "markdown",
      "metadata": {
        "id": "up_C6sutd5g3"
      },
      "source": [
        "**Average monthly Revenue**"
      ]
    },
    {
      "cell_type": "code",
      "metadata": {
        "id": "eR5FrHBhmYpa",
        "outputId": "666807f6-2b57-411f-ca67-fe282ec629ef",
        "colab": {
          "base_uri": "https://localhost:8080/"
        }
      },
      "source": [
        "Monthly_sales = sl.groupby(sl.index.month)[\"weekly_sales\"].mean()\n",
        "Monthly_sales"
      ],
      "execution_count": null,
      "outputs": [
        {
          "output_type": "execute_result",
          "data": {
            "text/plain": [
              "date\n",
              "1     21468.810715\n",
              "2     25048.794885\n",
              "3     23015.854780\n",
              "4     25546.738764\n",
              "5     24479.196080\n",
              "6     25257.589396\n",
              "7     24239.591060\n",
              "8     23729.857789\n",
              "9     23552.331879\n",
              "10    21437.300586\n",
              "11    23130.452277\n",
              "12    25120.645183\n",
              "Name: weekly_sales, dtype: float64"
            ]
          },
          "metadata": {
            "tags": []
          },
          "execution_count": 75
        }
      ]
    },
    {
      "cell_type": "code",
      "metadata": {
        "id": "qMMLHHHNhQcl",
        "outputId": "3ef0cd6b-ce32-461c-df08-50aca86ce434",
        "colab": {
          "base_uri": "https://localhost:8080/",
          "height": 348
        }
      },
      "source": [
        "# Fig and ax objects to store figure and axis properties\n",
        "fig1, ax1 = plt.subplots(dpi = 90)\n",
        "ax1.plot(Monthly_sales.index, Monthly_sales[:], marker = 'o')\n",
        "\n",
        "# Labelling\n",
        "ax1.set_ylabel('Average revenue [in $]')\n",
        "ax1.set_title('Monthwise average revenue generated [in $]')\n",
        "\n",
        "# Ticks\n",
        "month = [\"Jan\", \"Feb\", \"Mar\", \"Apr\", \"May\", \"June\", \"July\", \"Aug\", \"Sept\", \"Oct\", \"Nov\", \"Dec\"]\n",
        "ax1.set_xticks(range(1,13,1))\n",
        "ax1.set_xticklabels(month)\n",
        "ax1.set_yticks(range(21000,26500,500))\n",
        "\n",
        "# Formatting and Grid setting\n",
        "f1 = EngFormatter(unit='')\n",
        "ax1.yaxis.set_major_formatter(f1)\n",
        "ax1.grid()\n",
        "plt.show()"
      ],
      "execution_count": null,
      "outputs": [
        {
          "output_type": "display_data",
          "data": {
            "image/png": "[encoded data removed]",
            "text/plain": [
              "<Figure size 540x360 with 1 Axes>"
            ]
          },
          "metadata": {
            "tags": [],
            "needs_background": "light"
          }
        }
      ]
    },
    {
      "cell_type": "markdown",
      "metadata": {
        "id": "SHxKZomO2tq5"
      },
      "source": [
        "**Stores and Department Revenue**"
      ]
    },
    {
      "cell_type": "code",
      "metadata": {
        "id": "e3WFrWPud176",
        "outputId": "e6bb6099-de17-4ef3-a9ff-1c25732d72cb",
        "colab": {
          "base_uri": "https://localhost:8080/"
        }
      },
      "source": [
        "Store_sales = sl.groupby(\"store\")[\"weekly_sales\"].sum()\n",
        "Store_sales"
      ],
      "execution_count": null,
      "outputs": [
        {
          "output_type": "execute_result",
          "data": {
            "text/plain": [
              "store\n",
              "1     18828144.55\n",
              "2     23786139.34\n",
              "4     23540414.45\n",
              "6     19275700.71\n",
              "10    23178403.89\n",
              "13    23431368.47\n",
              "14    26889842.67\n",
              "19    18057339.37\n",
              "20    25828317.41\n",
              "27    21786727.24\n",
              "31    16179249.68\n",
              "39    16113071.12\n",
              "Name: weekly_sales, dtype: float64"
            ]
          },
          "metadata": {
            "tags": []
          },
          "execution_count": 77
        }
      ]
    },
    {
      "cell_type": "code",
      "metadata": {
        "id": "tgKx58HXvEP2",
        "outputId": "5ad51bf5-8521-4009-cb03-61124208ed66",
        "colab": {
          "base_uri": "https://localhost:8080/"
        }
      },
      "source": [
        "Dept_sales = sl.groupby(\"department\")[\"weekly_sales\"].sum()\n",
        "Dept_sales"
      ],
      "execution_count": 162,
      "outputs": [
        {
          "output_type": "execute_result",
          "data": {
            "text/plain": [
              "department\n",
              "1      4615555.27\n",
              "2     10278723.28\n",
              "3      2632088.25\n",
              "4      6460308.53\n",
              "5      5355216.00\n",
              "         ...     \n",
              "95    17284245.13\n",
              "96     2806589.86\n",
              "97     3828153.72\n",
              "98     1702165.00\n",
              "99       46632.21\n",
              "Name: weekly_sales, Length: 80, dtype: float64"
            ]
          },
          "metadata": {
            "tags": []
          },
          "execution_count": 162
        }
      ]
    },
    {
      "cell_type": "code",
      "metadata": {
        "id": "zFJ6Ai1xk3Ll",
        "outputId": "99b777c8-ea3e-46bd-f791-afc9641179a2",
        "colab": {
          "base_uri": "https://localhost:8080/",
          "height": 577
        }
      },
      "source": [
        "# Figure Properties\n",
        "fig2, ax2 = plt.subplots(2,1)\n",
        "fig2.set_size_inches([25,10])\n",
        "\n",
        "# Plotting\n",
        "sp1 = np.arange(1,13)  # Numpy array to bars' and ticks' spacing\n",
        "sp2 = np.arange(2,162,2) \n",
        "w1 = 0.6  \n",
        "w2 = 1.4        # Set the bar width\n",
        "ax2[0].bar(sp1, Store_sales[:], w1, color = 'orange', alpha = 0.4, edgecolor = 'k')     # Setting bars' spacing & width\n",
        "ax2[1].bar(sp2, Dept_sales[:], w2, color = 'g', edgecolor = 'k', alpha = 0.4)\n",
        "\n",
        "# Labelling\n",
        "ax2[0].set_xlabel('Store ID', fontsize = 15)\n",
        "ax2[0].set_ylabel('Total Revenue [$]', fontsize = 15)\n",
        "ax2[1].set_xlabel('Department ID', fontsize = 15)\n",
        "ax2[1].set_ylabel('Total Revenue [$]', fontsize = 15)\n",
        "ax2[0].set_title(\"Stores' Total revenue [$]\", fontsize = 15)\n",
        "ax2[1].set_title(\"Departments' Total revenue\", fontsize = 15)\n",
        "\n",
        "# Tick setting\n",
        "ax2[0].set_xticks(sp1)                     # Setting tick Spacing\n",
        "ax2[0].set_xticklabels(Store_sales.index)  # Setting tick label\n",
        "ax2[1].set_xticks(sp2)   \n",
        "ax2[1].set_xticklabels(Dept_sales.index)\n",
        "ax2[1].set_yticks(np.arange(0, 22e6, 2e6))\n",
        "ax2[0].tick_params(labelsize = 12)\n",
        "ax2[1].tick_params(labelsize = 12)\n",
        "# Formatting and Grid\n",
        "f2 = EngFormatter(unit = '')\n",
        "ax2[0].yaxis.set_major_formatter(f2)\n",
        "ax2[1].yaxis.set_major_formatter(f2)\n",
        "ax2[0].grid()\n",
        "ax2[1].grid(lw = 0.5)\n",
        "\n",
        "fig2.tight_layout()\n",
        "plt.show()"
      ],
      "execution_count": 161,
      "outputs": [
        {
          "output_type": "display_data",
          "data": {
            "image/png": "[encoded data removed]",
            "text/plain": [
              "<Figure size 1800x720 with 2 Axes>"
            ]
          },
          "metadata": {
            "tags": [],
            "needs_background": "light"
          }
        }
      ]
    },
    {
      "cell_type": "code",
      "metadata": {
        "id": "LS0Q7JcHePit",
        "outputId": "6d65d67e-3b63-4eae-dc8f-1f44552862de",
        "colab": {
          "base_uri": "https://localhost:8080/"
        }
      },
      "source": [
        "# Average temperature\n",
        "storeId_avg_temp = sl.groupby(by = \"store\", axis = 0)[\"temperature_c\"].mean()\n",
        "storeId_avg_temp"
      ],
      "execution_count": null,
      "outputs": [
        {
          "output_type": "execute_result",
          "data": {
            "text/plain": [
              "store\n",
              "1     18.485707\n",
              "2     18.246755\n",
              "4     14.257011\n",
              "6     18.738423\n",
              "10    21.211327\n",
              "13    10.258945\n",
              "14    13.751557\n",
              "19    10.668758\n",
              "20    11.783010\n",
              "27    13.704944\n",
              "31    18.553308\n",
              "39    19.395619\n",
              "Name: temperature_c, dtype: float64"
            ]
          },
          "metadata": {
            "tags": []
          },
          "execution_count": 80
        }
      ]
    },
    {
      "cell_type": "markdown",
      "metadata": {
        "id": "n9z-FgGKAe8l"
      },
      "source": [
        "**Date wise weekly sales**\\\n",
        "Except for 12 days between Jan 2010 to Jan 2011, average weekly sales have been very low and sales frequency being high between May 2011 to May 2012"
      ]
    },
    {
      "cell_type": "code",
      "metadata": {
        "id": "_DyHZ3sFALH1",
        "outputId": "b89d804a-4b63-47cb-9cf8-45ceaaf88716",
        "colab": {
          "base_uri": "https://localhost:8080/",
          "height": 486
        }
      },
      "source": [
        "sales_byDate = sl.pivot_table(values = \"weekly_sales\", index = \"date\", aggfunc=[np.sum, np.mean])\n",
        "sales_byDate"
      ],
      "execution_count": null,
      "outputs": [
        {
          "output_type": "execute_result",
          "data": {
            "text/html": [
              "<div>\n",
              "<style scoped>\n",
              "    .dataframe tbody tr th:only-of-type {\n",
              "        vertical-align: middle;\n",
              "    }\n",
              "\n",
              "    .dataframe tbody tr th {\n",
              "        vertical-align: top;\n",
              "    }\n",
              "\n",
              "    .dataframe thead tr th {\n",
              "        text-align: left;\n",
              "    }\n",
              "\n",
              "    .dataframe thead tr:last-of-type th {\n",
              "        text-align: right;\n",
              "    }\n",
              "</style>\n",
              "<table border=\"1\" class=\"dataframe\">\n",
              "  <thead>\n",
              "    <tr>\n",
              "      <th></th>\n",
              "      <th>sum</th>\n",
              "      <th>mean</th>\n",
              "    </tr>\n",
              "    <tr>\n",
              "      <th></th>\n",
              "      <th>weekly_sales</th>\n",
              "      <th>weekly_sales</th>\n",
              "    </tr>\n",
              "    <tr>\n",
              "      <th>date</th>\n",
              "      <th></th>\n",
              "      <th></th>\n",
              "    </tr>\n",
              "  </thead>\n",
              "  <tbody>\n",
              "    <tr>\n",
              "      <th>2010-02-05</th>\n",
              "      <td>22835369.84</td>\n",
              "      <td>26277.755857</td>\n",
              "    </tr>\n",
              "    <tr>\n",
              "      <th>2010-02-12</th>\n",
              "      <td>644.77</td>\n",
              "      <td>58.615455</td>\n",
              "    </tr>\n",
              "    <tr>\n",
              "      <th>2010-02-19</th>\n",
              "      <td>15.39</td>\n",
              "      <td>2.198571</td>\n",
              "    </tr>\n",
              "    <tr>\n",
              "      <th>2010-02-26</th>\n",
              "      <td>10.47</td>\n",
              "      <td>5.235000</td>\n",
              "    </tr>\n",
              "    <tr>\n",
              "      <th>2010-03-05</th>\n",
              "      <td>20862754.07</td>\n",
              "      <td>24063.153483</td>\n",
              "    </tr>\n",
              "    <tr>\n",
              "      <th>...</th>\n",
              "      <td>...</td>\n",
              "      <td>...</td>\n",
              "    </tr>\n",
              "    <tr>\n",
              "      <th>2012-09-21</th>\n",
              "      <td>389.00</td>\n",
              "      <td>389.000000</td>\n",
              "    </tr>\n",
              "    <tr>\n",
              "      <th>2012-09-28</th>\n",
              "      <td>224.00</td>\n",
              "      <td>224.000000</td>\n",
              "    </tr>\n",
              "    <tr>\n",
              "      <th>2012-10-05</th>\n",
              "      <td>7400.30</td>\n",
              "      <td>569.253846</td>\n",
              "    </tr>\n",
              "    <tr>\n",
              "      <th>2012-10-12</th>\n",
              "      <td>3.00</td>\n",
              "      <td>3.000000</td>\n",
              "    </tr>\n",
              "    <tr>\n",
              "      <th>2012-10-26</th>\n",
              "      <td>-21.63</td>\n",
              "      <td>-21.630000</td>\n",
              "    </tr>\n",
              "  </tbody>\n",
              "</table>\n",
              "<p>123 rows × 2 columns</p>\n",
              "</div>"
            ],
            "text/plain": [
              "                    sum          mean\n",
              "           weekly_sales  weekly_sales\n",
              "date                                 \n",
              "2010-02-05  22835369.84  26277.755857\n",
              "2010-02-12       644.77     58.615455\n",
              "2010-02-19        15.39      2.198571\n",
              "2010-02-26        10.47      5.235000\n",
              "2010-03-05  20862754.07  24063.153483\n",
              "...                 ...           ...\n",
              "2012-09-21       389.00    389.000000\n",
              "2012-09-28       224.00    224.000000\n",
              "2012-10-05      7400.30    569.253846\n",
              "2012-10-12         3.00      3.000000\n",
              "2012-10-26       -21.63    -21.630000\n",
              "\n",
              "[123 rows x 2 columns]"
            ]
          },
          "metadata": {
            "tags": []
          },
          "execution_count": 81
        }
      ]
    },
    {
      "cell_type": "code",
      "metadata": {
        "id": "98zlTtON2QXD",
        "outputId": "92150437-5eaf-43c2-8a38-0b201a89a915",
        "colab": {
          "base_uri": "https://localhost:8080/",
          "height": 293
        }
      },
      "source": [
        "# Plotting\n",
        "fig, ax = plt.subplots(1,1)\n",
        "y = sales_byDate.iloc[:, 0]\n",
        "x = pd.Series(sales_byDate.index)\n",
        "ax.scatter(x,y, marker = \"o\", linestyle = \"dotted\", color = \"g\", alpha = 0.5)\n",
        "\n",
        "# Labelling\n",
        "ax.set_xlabel(\"Date\")\n",
        "ax.set_ylabel(\"Average weekly sales [in 10 million usd]\")\n",
        "ax.set_title(\"     Date wise average weekly sales [in 10 million usd]\")\n",
        "\n",
        "# Autofit\n",
        "plt.gcf().autofmt_xdate()\n",
        "plt.show()"
      ],
      "execution_count": null,
      "outputs": [
        {
          "output_type": "display_data",
          "data": {
            "image/png": "[encoded data removed]",
            "text/plain": [
              "<Figure size 432x288 with 1 Axes>"
            ]
          },
          "metadata": {
            "tags": [],
            "needs_background": "light"
          }
        }
      ]
    },
    {
      "cell_type": "markdown",
      "metadata": {
        "id": "nbvbxrL8WD9o"
      },
      "source": [
        "**Department wise weekly sales**"
      ]
    },
    {
      "cell_type": "code",
      "metadata": {
        "id": "aHVoABkbEw5H",
        "outputId": "b8ff429f-26b8-42ff-ecbf-dbc8a44239c4",
        "colab": {
          "base_uri": "https://localhost:8080/"
        }
      },
      "source": [
        "sales_bydept = sl.groupby(by = \"department\")[\"weekly_sales\"].sum()\n",
        "sales_bydept"
      ],
      "execution_count": null,
      "outputs": [
        {
          "output_type": "execute_result",
          "data": {
            "text/plain": [
              "department\n",
              "1      4615555.27\n",
              "2     10278723.28\n",
              "3      2632088.25\n",
              "4      6460308.53\n",
              "5      5355216.00\n",
              "         ...     \n",
              "95    17284245.13\n",
              "96     2806589.86\n",
              "97     3828153.72\n",
              "98     1702165.00\n",
              "99       46632.21\n",
              "Name: weekly_sales, Length: 80, dtype: float64"
            ]
          },
          "metadata": {
            "tags": []
          },
          "execution_count": 83
        }
      ]
    },
    {
      "cell_type": "markdown",
      "metadata": {
        "id": "kjVarsEg0uuM"
      },
      "source": [
        "Finding out if there is any correlation between the numerical variables"
      ]
    },
    {
      "cell_type": "code",
      "metadata": {
        "id": "Cq8Adpp2ynn0",
        "outputId": "ee547584-3418-4465-d233-57898980cf0a",
        "colab": {
          "base_uri": "https://localhost:8080/",
          "height": 395
        }
      },
      "source": [
        "temp = sl.iloc[:,6] \n",
        "fuel = sl.iloc[:,7]\n",
        "emp = sl.iloc[:, 8]\n",
        "ws = sl.iloc[:, 4]\n",
        "plt.scatter(temp, ws)"
      ],
      "execution_count": null,
      "outputs": [
        {
          "output_type": "error",
          "ename": "IndexError",
          "evalue": "ignored",
          "traceback": [
            "\u001b[0;31m---------------------------------------------------------------------------\u001b[0m",
            "\u001b[0;31mIndexError\u001b[0m                                Traceback (most recent call last)",
            "\u001b[0;32m<ipython-input-84-c7f7c5af19a3>\u001b[0m in \u001b[0;36m<module>\u001b[0;34m()\u001b[0m\n\u001b[1;32m      1\u001b[0m \u001b[0mtemp\u001b[0m \u001b[0;34m=\u001b[0m \u001b[0msl\u001b[0m\u001b[0;34m.\u001b[0m\u001b[0miloc\u001b[0m\u001b[0;34m[\u001b[0m\u001b[0;34m:\u001b[0m\u001b[0;34m,\u001b[0m\u001b[0;36m6\u001b[0m\u001b[0;34m]\u001b[0m\u001b[0;34m\u001b[0m\u001b[0;34m\u001b[0m\u001b[0m\n\u001b[1;32m      2\u001b[0m \u001b[0mfuel\u001b[0m \u001b[0;34m=\u001b[0m \u001b[0msl\u001b[0m\u001b[0;34m.\u001b[0m\u001b[0miloc\u001b[0m\u001b[0;34m[\u001b[0m\u001b[0;34m:\u001b[0m\u001b[0;34m,\u001b[0m\u001b[0;36m7\u001b[0m\u001b[0;34m]\u001b[0m\u001b[0;34m\u001b[0m\u001b[0;34m\u001b[0m\u001b[0m\n\u001b[0;32m----> 3\u001b[0;31m \u001b[0memp\u001b[0m \u001b[0;34m=\u001b[0m \u001b[0msl\u001b[0m\u001b[0;34m.\u001b[0m\u001b[0miloc\u001b[0m\u001b[0;34m[\u001b[0m\u001b[0;34m:\u001b[0m\u001b[0;34m,\u001b[0m \u001b[0;36m8\u001b[0m\u001b[0;34m]\u001b[0m\u001b[0;34m\u001b[0m\u001b[0;34m\u001b[0m\u001b[0m\n\u001b[0m\u001b[1;32m      4\u001b[0m \u001b[0mws\u001b[0m \u001b[0;34m=\u001b[0m \u001b[0msl\u001b[0m\u001b[0;34m.\u001b[0m\u001b[0miloc\u001b[0m\u001b[0;34m[\u001b[0m\u001b[0;34m:\u001b[0m\u001b[0;34m,\u001b[0m \u001b[0;36m4\u001b[0m\u001b[0;34m]\u001b[0m\u001b[0;34m\u001b[0m\u001b[0;34m\u001b[0m\u001b[0m\n\u001b[1;32m      5\u001b[0m \u001b[0mplt\u001b[0m\u001b[0;34m.\u001b[0m\u001b[0mscatter\u001b[0m\u001b[0;34m(\u001b[0m\u001b[0mtemp\u001b[0m\u001b[0;34m,\u001b[0m \u001b[0mws\u001b[0m\u001b[0;34m)\u001b[0m\u001b[0;34m\u001b[0m\u001b[0;34m\u001b[0m\u001b[0m\n",
            "\u001b[0;32m/usr/local/lib/python3.6/dist-packages/pandas/core/indexing.py\u001b[0m in \u001b[0;36m__getitem__\u001b[0;34m(self, key)\u001b[0m\n\u001b[1;32m    871\u001b[0m                     \u001b[0;31m# AttributeError for IntervalTree get_value\u001b[0m\u001b[0;34m\u001b[0m\u001b[0;34m\u001b[0m\u001b[0;34m\u001b[0m\u001b[0m\n\u001b[1;32m    872\u001b[0m                     \u001b[0;32mpass\u001b[0m\u001b[0;34m\u001b[0m\u001b[0;34m\u001b[0m\u001b[0m\n\u001b[0;32m--> 873\u001b[0;31m             \u001b[0;32mreturn\u001b[0m \u001b[0mself\u001b[0m\u001b[0;34m.\u001b[0m\u001b[0m_getitem_tuple\u001b[0m\u001b[0;34m(\u001b[0m\u001b[0mkey\u001b[0m\u001b[0;34m)\u001b[0m\u001b[0;34m\u001b[0m\u001b[0;34m\u001b[0m\u001b[0m\n\u001b[0m\u001b[1;32m    874\u001b[0m         \u001b[0;32melse\u001b[0m\u001b[0;34m:\u001b[0m\u001b[0;34m\u001b[0m\u001b[0;34m\u001b[0m\u001b[0m\n\u001b[1;32m    875\u001b[0m             \u001b[0;31m# we by definition only have the 0th axis\u001b[0m\u001b[0;34m\u001b[0m\u001b[0;34m\u001b[0m\u001b[0;34m\u001b[0m\u001b[0m\n",
            "\u001b[0;32m/usr/local/lib/python3.6/dist-packages/pandas/core/indexing.py\u001b[0m in \u001b[0;36m_getitem_tuple\u001b[0;34m(self, tup)\u001b[0m\n\u001b[1;32m   1441\u001b[0m     \u001b[0;32mdef\u001b[0m \u001b[0m_getitem_tuple\u001b[0m\u001b[0;34m(\u001b[0m\u001b[0mself\u001b[0m\u001b[0;34m,\u001b[0m \u001b[0mtup\u001b[0m\u001b[0;34m:\u001b[0m \u001b[0mTuple\u001b[0m\u001b[0;34m)\u001b[0m\u001b[0;34m:\u001b[0m\u001b[0;34m\u001b[0m\u001b[0;34m\u001b[0m\u001b[0m\n\u001b[1;32m   1442\u001b[0m \u001b[0;34m\u001b[0m\u001b[0m\n\u001b[0;32m-> 1443\u001b[0;31m         \u001b[0mself\u001b[0m\u001b[0;34m.\u001b[0m\u001b[0m_has_valid_tuple\u001b[0m\u001b[0;34m(\u001b[0m\u001b[0mtup\u001b[0m\u001b[0;34m)\u001b[0m\u001b[0;34m\u001b[0m\u001b[0;34m\u001b[0m\u001b[0m\n\u001b[0m\u001b[1;32m   1444\u001b[0m         \u001b[0;32mtry\u001b[0m\u001b[0;34m:\u001b[0m\u001b[0;34m\u001b[0m\u001b[0;34m\u001b[0m\u001b[0m\n\u001b[1;32m   1445\u001b[0m             \u001b[0;32mreturn\u001b[0m \u001b[0mself\u001b[0m\u001b[0;34m.\u001b[0m\u001b[0m_getitem_lowerdim\u001b[0m\u001b[0;34m(\u001b[0m\u001b[0mtup\u001b[0m\u001b[0;34m)\u001b[0m\u001b[0;34m\u001b[0m\u001b[0;34m\u001b[0m\u001b[0m\n",
            "\u001b[0;32m/usr/local/lib/python3.6/dist-packages/pandas/core/indexing.py\u001b[0m in \u001b[0;36m_has_valid_tuple\u001b[0;34m(self, key)\u001b[0m\n\u001b[1;32m    700\u001b[0m                 \u001b[0;32mraise\u001b[0m \u001b[0mIndexingError\u001b[0m\u001b[0;34m(\u001b[0m\u001b[0;34m\"Too many indexers\"\u001b[0m\u001b[0;34m)\u001b[0m\u001b[0;34m\u001b[0m\u001b[0;34m\u001b[0m\u001b[0m\n\u001b[1;32m    701\u001b[0m             \u001b[0;32mtry\u001b[0m\u001b[0;34m:\u001b[0m\u001b[0;34m\u001b[0m\u001b[0;34m\u001b[0m\u001b[0m\n\u001b[0;32m--> 702\u001b[0;31m                 \u001b[0mself\u001b[0m\u001b[0;34m.\u001b[0m\u001b[0m_validate_key\u001b[0m\u001b[0;34m(\u001b[0m\u001b[0mk\u001b[0m\u001b[0;34m,\u001b[0m \u001b[0mi\u001b[0m\u001b[0;34m)\u001b[0m\u001b[0;34m\u001b[0m\u001b[0;34m\u001b[0m\u001b[0m\n\u001b[0m\u001b[1;32m    703\u001b[0m             \u001b[0;32mexcept\u001b[0m \u001b[0mValueError\u001b[0m \u001b[0;32mas\u001b[0m \u001b[0merr\u001b[0m\u001b[0;34m:\u001b[0m\u001b[0;34m\u001b[0m\u001b[0;34m\u001b[0m\u001b[0m\n\u001b[1;32m    704\u001b[0m                 raise ValueError(\n",
            "\u001b[0;32m/usr/local/lib/python3.6/dist-packages/pandas/core/indexing.py\u001b[0m in \u001b[0;36m_validate_key\u001b[0;34m(self, key, axis)\u001b[0m\n\u001b[1;32m   1350\u001b[0m             \u001b[0;32mreturn\u001b[0m\u001b[0;34m\u001b[0m\u001b[0;34m\u001b[0m\u001b[0m\n\u001b[1;32m   1351\u001b[0m         \u001b[0;32melif\u001b[0m \u001b[0mis_integer\u001b[0m\u001b[0;34m(\u001b[0m\u001b[0mkey\u001b[0m\u001b[0;34m)\u001b[0m\u001b[0;34m:\u001b[0m\u001b[0;34m\u001b[0m\u001b[0;34m\u001b[0m\u001b[0m\n\u001b[0;32m-> 1352\u001b[0;31m             \u001b[0mself\u001b[0m\u001b[0;34m.\u001b[0m\u001b[0m_validate_integer\u001b[0m\u001b[0;34m(\u001b[0m\u001b[0mkey\u001b[0m\u001b[0;34m,\u001b[0m \u001b[0maxis\u001b[0m\u001b[0;34m)\u001b[0m\u001b[0;34m\u001b[0m\u001b[0;34m\u001b[0m\u001b[0m\n\u001b[0m\u001b[1;32m   1353\u001b[0m         \u001b[0;32melif\u001b[0m \u001b[0misinstance\u001b[0m\u001b[0;34m(\u001b[0m\u001b[0mkey\u001b[0m\u001b[0;34m,\u001b[0m \u001b[0mtuple\u001b[0m\u001b[0;34m)\u001b[0m\u001b[0;34m:\u001b[0m\u001b[0;34m\u001b[0m\u001b[0;34m\u001b[0m\u001b[0m\n\u001b[1;32m   1354\u001b[0m             \u001b[0;31m# a tuple should already have been caught by this point\u001b[0m\u001b[0;34m\u001b[0m\u001b[0;34m\u001b[0m\u001b[0;34m\u001b[0m\u001b[0m\n",
            "\u001b[0;32m/usr/local/lib/python3.6/dist-packages/pandas/core/indexing.py\u001b[0m in \u001b[0;36m_validate_integer\u001b[0;34m(self, key, axis)\u001b[0m\n\u001b[1;32m   1435\u001b[0m         \u001b[0mlen_axis\u001b[0m \u001b[0;34m=\u001b[0m \u001b[0mlen\u001b[0m\u001b[0;34m(\u001b[0m\u001b[0mself\u001b[0m\u001b[0;34m.\u001b[0m\u001b[0mobj\u001b[0m\u001b[0;34m.\u001b[0m\u001b[0m_get_axis\u001b[0m\u001b[0;34m(\u001b[0m\u001b[0maxis\u001b[0m\u001b[0;34m)\u001b[0m\u001b[0;34m)\u001b[0m\u001b[0;34m\u001b[0m\u001b[0;34m\u001b[0m\u001b[0m\n\u001b[1;32m   1436\u001b[0m         \u001b[0;32mif\u001b[0m \u001b[0mkey\u001b[0m \u001b[0;34m>=\u001b[0m \u001b[0mlen_axis\u001b[0m \u001b[0;32mor\u001b[0m \u001b[0mkey\u001b[0m \u001b[0;34m<\u001b[0m \u001b[0;34m-\u001b[0m\u001b[0mlen_axis\u001b[0m\u001b[0;34m:\u001b[0m\u001b[0;34m\u001b[0m\u001b[0;34m\u001b[0m\u001b[0m\n\u001b[0;32m-> 1437\u001b[0;31m             \u001b[0;32mraise\u001b[0m \u001b[0mIndexError\u001b[0m\u001b[0;34m(\u001b[0m\u001b[0;34m\"single positional indexer is out-of-bounds\"\u001b[0m\u001b[0;34m)\u001b[0m\u001b[0;34m\u001b[0m\u001b[0;34m\u001b[0m\u001b[0m\n\u001b[0m\u001b[1;32m   1438\u001b[0m \u001b[0;34m\u001b[0m\u001b[0m\n\u001b[1;32m   1439\u001b[0m     \u001b[0;31m# -------------------------------------------------------------------\u001b[0m\u001b[0;34m\u001b[0m\u001b[0;34m\u001b[0m\u001b[0;34m\u001b[0m\u001b[0m\n",
            "\u001b[0;31mIndexError\u001b[0m: single positional indexer is out-of-bounds"
          ]
        }
      ]
    },
    {
      "cell_type": "code",
      "metadata": {
        "id": "HU_gKIIV0cNI"
      },
      "source": [
        "sl.index"
      ],
      "execution_count": null,
      "outputs": []
    }
  ]
}