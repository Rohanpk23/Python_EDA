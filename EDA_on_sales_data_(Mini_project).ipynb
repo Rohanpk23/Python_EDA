{
  "nbformat": 4,
  "nbformat_minor": 0,
  "metadata": {
    "colab": {
      "name": "EDA on sales data (Mini project)",
      "provenance": [],
      "mount_file_id": "1Yr5a6hjIct0s4d-0O6ZbfbkElqiNnF6y",
      "authorship_tag": "ABX9TyM+P9aK4mYwDd2Tcpi2DuDe",
      "include_colab_link": true
    },
    "kernelspec": {
      "name": "python3",
      "display_name": "Python 3"
    }
  },
  "cells": [
    {
      "cell_type": "markdown",
      "metadata": {
        "id": "view-in-github",
        "colab_type": "text"
      },
      "source": [
        "<a href=\"https://colab.research.google.com/github/Rohanpk23/Python_EDA/blob/main/EDA_on_sales_data_(Mini_project).ipynb\" target=\"_parent\"><img src=\"https://colab.research.google.com/assets/colab-badge.svg\" alt=\"Open In Colab\"/></a>"
      ]
    },
    {
      "cell_type": "code",
      "metadata": {
        "id": "WsuzjhjwDdRd"
      },
      "source": [
        "import pandas as pd\n",
        "import numpy as np\n",
        "import matplotlib.pyplot as plt"
      ],
      "execution_count": null,
      "outputs": []
    },
    {
      "cell_type": "code",
      "metadata": {
        "id": "q4mBzpo8GRF7",
        "outputId": "26f81813-9870-4a22-9802-8b2ea3b0dabf",
        "colab": {
          "base_uri": "https://localhost:8080/",
          "height": 419
        }
      },
      "source": [
        "# Original dataset\n",
        "sales = pd.read_csv(\"/content/drive/My Drive/Colab Notebooks/sales_subset.csv\", index_col = 0)\n",
        "sales.date = pd.to_datetime(sales[\"date\"])\n",
        "sales"
      ],
      "execution_count": null,
      "outputs": [
        {
          "output_type": "execute_result",
          "data": {
            "text/html": [
              "<div>\n",
              "<style scoped>\n",
              "    .dataframe tbody tr th:only-of-type {\n",
              "        vertical-align: middle;\n",
              "    }\n",
              "\n",
              "    .dataframe tbody tr th {\n",
              "        vertical-align: top;\n",
              "    }\n",
              "\n",
              "    .dataframe thead th {\n",
              "        text-align: right;\n",
              "    }\n",
              "</style>\n",
              "<table border=\"1\" class=\"dataframe\">\n",
              "  <thead>\n",
              "    <tr style=\"text-align: right;\">\n",
              "      <th></th>\n",
              "      <th>store</th>\n",
              "      <th>type</th>\n",
              "      <th>department</th>\n",
              "      <th>date</th>\n",
              "      <th>weekly_sales</th>\n",
              "      <th>is_holiday</th>\n",
              "      <th>temperature_c</th>\n",
              "      <th>fuel_price_usd_per_l</th>\n",
              "      <th>unemployment</th>\n",
              "    </tr>\n",
              "  </thead>\n",
              "  <tbody>\n",
              "    <tr>\n",
              "      <th>0</th>\n",
              "      <td>1</td>\n",
              "      <td>A</td>\n",
              "      <td>1</td>\n",
              "      <td>2010-02-05</td>\n",
              "      <td>24924.50</td>\n",
              "      <td>False</td>\n",
              "      <td>5.727778</td>\n",
              "      <td>0.679451</td>\n",
              "      <td>8.106</td>\n",
              "    </tr>\n",
              "    <tr>\n",
              "      <th>1</th>\n",
              "      <td>1</td>\n",
              "      <td>A</td>\n",
              "      <td>1</td>\n",
              "      <td>2010-03-05</td>\n",
              "      <td>21827.90</td>\n",
              "      <td>False</td>\n",
              "      <td>8.055556</td>\n",
              "      <td>0.693452</td>\n",
              "      <td>8.106</td>\n",
              "    </tr>\n",
              "    <tr>\n",
              "      <th>2</th>\n",
              "      <td>1</td>\n",
              "      <td>A</td>\n",
              "      <td>1</td>\n",
              "      <td>2010-04-02</td>\n",
              "      <td>57258.43</td>\n",
              "      <td>False</td>\n",
              "      <td>16.816667</td>\n",
              "      <td>0.718284</td>\n",
              "      <td>7.808</td>\n",
              "    </tr>\n",
              "    <tr>\n",
              "      <th>3</th>\n",
              "      <td>1</td>\n",
              "      <td>A</td>\n",
              "      <td>1</td>\n",
              "      <td>2010-05-07</td>\n",
              "      <td>17413.94</td>\n",
              "      <td>False</td>\n",
              "      <td>22.527778</td>\n",
              "      <td>0.748928</td>\n",
              "      <td>7.808</td>\n",
              "    </tr>\n",
              "    <tr>\n",
              "      <th>4</th>\n",
              "      <td>1</td>\n",
              "      <td>A</td>\n",
              "      <td>1</td>\n",
              "      <td>2010-06-04</td>\n",
              "      <td>17558.09</td>\n",
              "      <td>False</td>\n",
              "      <td>27.050000</td>\n",
              "      <td>0.714586</td>\n",
              "      <td>7.808</td>\n",
              "    </tr>\n",
              "    <tr>\n",
              "      <th>...</th>\n",
              "      <td>...</td>\n",
              "      <td>...</td>\n",
              "      <td>...</td>\n",
              "      <td>...</td>\n",
              "      <td>...</td>\n",
              "      <td>...</td>\n",
              "      <td>...</td>\n",
              "      <td>...</td>\n",
              "      <td>...</td>\n",
              "    </tr>\n",
              "    <tr>\n",
              "      <th>10769</th>\n",
              "      <td>39</td>\n",
              "      <td>A</td>\n",
              "      <td>99</td>\n",
              "      <td>2011-12-09</td>\n",
              "      <td>895.00</td>\n",
              "      <td>False</td>\n",
              "      <td>9.644444</td>\n",
              "      <td>0.834256</td>\n",
              "      <td>7.716</td>\n",
              "    </tr>\n",
              "    <tr>\n",
              "      <th>10770</th>\n",
              "      <td>39</td>\n",
              "      <td>A</td>\n",
              "      <td>99</td>\n",
              "      <td>2012-02-03</td>\n",
              "      <td>350.00</td>\n",
              "      <td>False</td>\n",
              "      <td>15.938889</td>\n",
              "      <td>0.887619</td>\n",
              "      <td>7.244</td>\n",
              "    </tr>\n",
              "    <tr>\n",
              "      <th>10771</th>\n",
              "      <td>39</td>\n",
              "      <td>A</td>\n",
              "      <td>99</td>\n",
              "      <td>2012-06-08</td>\n",
              "      <td>450.00</td>\n",
              "      <td>False</td>\n",
              "      <td>27.288889</td>\n",
              "      <td>0.911922</td>\n",
              "      <td>6.989</td>\n",
              "    </tr>\n",
              "    <tr>\n",
              "      <th>10772</th>\n",
              "      <td>39</td>\n",
              "      <td>A</td>\n",
              "      <td>99</td>\n",
              "      <td>2012-07-13</td>\n",
              "      <td>0.06</td>\n",
              "      <td>False</td>\n",
              "      <td>25.644444</td>\n",
              "      <td>0.860145</td>\n",
              "      <td>6.623</td>\n",
              "    </tr>\n",
              "    <tr>\n",
              "      <th>10773</th>\n",
              "      <td>39</td>\n",
              "      <td>A</td>\n",
              "      <td>99</td>\n",
              "      <td>2012-10-05</td>\n",
              "      <td>915.00</td>\n",
              "      <td>False</td>\n",
              "      <td>22.250000</td>\n",
              "      <td>0.955511</td>\n",
              "      <td>6.228</td>\n",
              "    </tr>\n",
              "  </tbody>\n",
              "</table>\n",
              "<p>10774 rows × 9 columns</p>\n",
              "</div>"
            ],
            "text/plain": [
              "       store type  ...  fuel_price_usd_per_l unemployment\n",
              "0          1    A  ...              0.679451        8.106\n",
              "1          1    A  ...              0.693452        8.106\n",
              "2          1    A  ...              0.718284        7.808\n",
              "3          1    A  ...              0.748928        7.808\n",
              "4          1    A  ...              0.714586        7.808\n",
              "...      ...  ...  ...                   ...          ...\n",
              "10769     39    A  ...              0.834256        7.716\n",
              "10770     39    A  ...              0.887619        7.244\n",
              "10771     39    A  ...              0.911922        6.989\n",
              "10772     39    A  ...              0.860145        6.623\n",
              "10773     39    A  ...              0.955511        6.228\n",
              "\n",
              "[10774 rows x 9 columns]"
            ]
          },
          "metadata": {
            "tags": []
          },
          "execution_count": 28
        }
      ]
    },
    {
      "cell_type": "code",
      "metadata": {
        "id": "Tsndvk5LQnko",
        "outputId": "dc5f90f8-3068-42e1-b2b2-e6de61e4523c",
        "colab": {
          "base_uri": "https://localhost:8080/",
          "height": 419
        }
      },
      "source": [
        "sl = sales\n",
        "sl"
      ],
      "execution_count": null,
      "outputs": [
        {
          "output_type": "execute_result",
          "data": {
            "text/html": [
              "<div>\n",
              "<style scoped>\n",
              "    .dataframe tbody tr th:only-of-type {\n",
              "        vertical-align: middle;\n",
              "    }\n",
              "\n",
              "    .dataframe tbody tr th {\n",
              "        vertical-align: top;\n",
              "    }\n",
              "\n",
              "    .dataframe thead th {\n",
              "        text-align: right;\n",
              "    }\n",
              "</style>\n",
              "<table border=\"1\" class=\"dataframe\">\n",
              "  <thead>\n",
              "    <tr style=\"text-align: right;\">\n",
              "      <th></th>\n",
              "      <th>store</th>\n",
              "      <th>type</th>\n",
              "      <th>department</th>\n",
              "      <th>date</th>\n",
              "      <th>weekly_sales</th>\n",
              "      <th>is_holiday</th>\n",
              "      <th>temperature_c</th>\n",
              "      <th>fuel_price_usd_per_l</th>\n",
              "      <th>unemployment</th>\n",
              "    </tr>\n",
              "  </thead>\n",
              "  <tbody>\n",
              "    <tr>\n",
              "      <th>0</th>\n",
              "      <td>1</td>\n",
              "      <td>A</td>\n",
              "      <td>1</td>\n",
              "      <td>2010-02-05</td>\n",
              "      <td>24924.50</td>\n",
              "      <td>False</td>\n",
              "      <td>5.727778</td>\n",
              "      <td>0.679451</td>\n",
              "      <td>8.106</td>\n",
              "    </tr>\n",
              "    <tr>\n",
              "      <th>1</th>\n",
              "      <td>1</td>\n",
              "      <td>A</td>\n",
              "      <td>1</td>\n",
              "      <td>2010-03-05</td>\n",
              "      <td>21827.90</td>\n",
              "      <td>False</td>\n",
              "      <td>8.055556</td>\n",
              "      <td>0.693452</td>\n",
              "      <td>8.106</td>\n",
              "    </tr>\n",
              "    <tr>\n",
              "      <th>2</th>\n",
              "      <td>1</td>\n",
              "      <td>A</td>\n",
              "      <td>1</td>\n",
              "      <td>2010-04-02</td>\n",
              "      <td>57258.43</td>\n",
              "      <td>False</td>\n",
              "      <td>16.816667</td>\n",
              "      <td>0.718284</td>\n",
              "      <td>7.808</td>\n",
              "    </tr>\n",
              "    <tr>\n",
              "      <th>3</th>\n",
              "      <td>1</td>\n",
              "      <td>A</td>\n",
              "      <td>1</td>\n",
              "      <td>2010-05-07</td>\n",
              "      <td>17413.94</td>\n",
              "      <td>False</td>\n",
              "      <td>22.527778</td>\n",
              "      <td>0.748928</td>\n",
              "      <td>7.808</td>\n",
              "    </tr>\n",
              "    <tr>\n",
              "      <th>4</th>\n",
              "      <td>1</td>\n",
              "      <td>A</td>\n",
              "      <td>1</td>\n",
              "      <td>2010-06-04</td>\n",
              "      <td>17558.09</td>\n",
              "      <td>False</td>\n",
              "      <td>27.050000</td>\n",
              "      <td>0.714586</td>\n",
              "      <td>7.808</td>\n",
              "    </tr>\n",
              "    <tr>\n",
              "      <th>...</th>\n",
              "      <td>...</td>\n",
              "      <td>...</td>\n",
              "      <td>...</td>\n",
              "      <td>...</td>\n",
              "      <td>...</td>\n",
              "      <td>...</td>\n",
              "      <td>...</td>\n",
              "      <td>...</td>\n",
              "      <td>...</td>\n",
              "    </tr>\n",
              "    <tr>\n",
              "      <th>10769</th>\n",
              "      <td>39</td>\n",
              "      <td>A</td>\n",
              "      <td>99</td>\n",
              "      <td>2011-12-09</td>\n",
              "      <td>895.00</td>\n",
              "      <td>False</td>\n",
              "      <td>9.644444</td>\n",
              "      <td>0.834256</td>\n",
              "      <td>7.716</td>\n",
              "    </tr>\n",
              "    <tr>\n",
              "      <th>10770</th>\n",
              "      <td>39</td>\n",
              "      <td>A</td>\n",
              "      <td>99</td>\n",
              "      <td>2012-02-03</td>\n",
              "      <td>350.00</td>\n",
              "      <td>False</td>\n",
              "      <td>15.938889</td>\n",
              "      <td>0.887619</td>\n",
              "      <td>7.244</td>\n",
              "    </tr>\n",
              "    <tr>\n",
              "      <th>10771</th>\n",
              "      <td>39</td>\n",
              "      <td>A</td>\n",
              "      <td>99</td>\n",
              "      <td>2012-06-08</td>\n",
              "      <td>450.00</td>\n",
              "      <td>False</td>\n",
              "      <td>27.288889</td>\n",
              "      <td>0.911922</td>\n",
              "      <td>6.989</td>\n",
              "    </tr>\n",
              "    <tr>\n",
              "      <th>10772</th>\n",
              "      <td>39</td>\n",
              "      <td>A</td>\n",
              "      <td>99</td>\n",
              "      <td>2012-07-13</td>\n",
              "      <td>0.06</td>\n",
              "      <td>False</td>\n",
              "      <td>25.644444</td>\n",
              "      <td>0.860145</td>\n",
              "      <td>6.623</td>\n",
              "    </tr>\n",
              "    <tr>\n",
              "      <th>10773</th>\n",
              "      <td>39</td>\n",
              "      <td>A</td>\n",
              "      <td>99</td>\n",
              "      <td>2012-10-05</td>\n",
              "      <td>915.00</td>\n",
              "      <td>False</td>\n",
              "      <td>22.250000</td>\n",
              "      <td>0.955511</td>\n",
              "      <td>6.228</td>\n",
              "    </tr>\n",
              "  </tbody>\n",
              "</table>\n",
              "<p>10774 rows × 9 columns</p>\n",
              "</div>"
            ],
            "text/plain": [
              "       store type  ...  fuel_price_usd_per_l unemployment\n",
              "0          1    A  ...              0.679451        8.106\n",
              "1          1    A  ...              0.693452        8.106\n",
              "2          1    A  ...              0.718284        7.808\n",
              "3          1    A  ...              0.748928        7.808\n",
              "4          1    A  ...              0.714586        7.808\n",
              "...      ...  ...  ...                   ...          ...\n",
              "10769     39    A  ...              0.834256        7.716\n",
              "10770     39    A  ...              0.887619        7.244\n",
              "10771     39    A  ...              0.911922        6.989\n",
              "10772     39    A  ...              0.860145        6.623\n",
              "10773     39    A  ...              0.955511        6.228\n",
              "\n",
              "[10774 rows x 9 columns]"
            ]
          },
          "metadata": {
            "tags": []
          },
          "execution_count": 29
        }
      ]
    },
    {
      "cell_type": "markdown",
      "metadata": {
        "id": "Zg2ejikaFzoZ"
      },
      "source": [
        "# Summary stats"
      ]
    },
    {
      "cell_type": "markdown",
      "metadata": {
        "id": "qoofIbhEyc5-"
      },
      "source": [
        "There are no null values"
      ]
    },
    {
      "cell_type": "code",
      "metadata": {
        "id": "ICNV-eDayWtF",
        "outputId": "99dd9a49-f438-4910-a568-b70e5b329b77",
        "colab": {
          "base_uri": "https://localhost:8080/",
          "height": 187
        }
      },
      "source": [
        "sl.isna().sum()"
      ],
      "execution_count": null,
      "outputs": [
        {
          "output_type": "execute_result",
          "data": {
            "text/plain": [
              "store                   0\n",
              "type                    0\n",
              "department              0\n",
              "date                    0\n",
              "weekly_sales            0\n",
              "is_holiday              0\n",
              "temperature_c           0\n",
              "fuel_price_usd_per_l    0\n",
              "unemployment            0\n",
              "dtype: int64"
            ]
          },
          "metadata": {
            "tags": []
          },
          "execution_count": 30
        }
      ]
    },
    {
      "cell_type": "code",
      "metadata": {
        "id": "dD4I6XOpE9nV",
        "outputId": "d4875416-e930-473e-ca70-b02daf14168a",
        "colab": {
          "base_uri": "https://localhost:8080/",
          "height": 297
        }
      },
      "source": [
        "# Weekly sales, temp, fuel price and unempl\n",
        "num_data = [\"weekly_sales\", \"temperature_c\", \"fuel_price_usd_per_l\", \"unemployment\"]\n",
        "sl[num_data].describe()"
      ],
      "execution_count": null,
      "outputs": [
        {
          "output_type": "execute_result",
          "data": {
            "text/html": [
              "<div>\n",
              "<style scoped>\n",
              "    .dataframe tbody tr th:only-of-type {\n",
              "        vertical-align: middle;\n",
              "    }\n",
              "\n",
              "    .dataframe tbody tr th {\n",
              "        vertical-align: top;\n",
              "    }\n",
              "\n",
              "    .dataframe thead th {\n",
              "        text-align: right;\n",
              "    }\n",
              "</style>\n",
              "<table border=\"1\" class=\"dataframe\">\n",
              "  <thead>\n",
              "    <tr style=\"text-align: right;\">\n",
              "      <th></th>\n",
              "      <th>weekly_sales</th>\n",
              "      <th>temperature_c</th>\n",
              "      <th>fuel_price_usd_per_l</th>\n",
              "      <th>unemployment</th>\n",
              "    </tr>\n",
              "  </thead>\n",
              "  <tbody>\n",
              "    <tr>\n",
              "      <th>count</th>\n",
              "      <td>10774.000000</td>\n",
              "      <td>10774.000000</td>\n",
              "      <td>10774.000000</td>\n",
              "      <td>10774.000000</td>\n",
              "    </tr>\n",
              "    <tr>\n",
              "      <th>mean</th>\n",
              "      <td>23843.950149</td>\n",
              "      <td>15.731978</td>\n",
              "      <td>0.749746</td>\n",
              "      <td>8.082009</td>\n",
              "    </tr>\n",
              "    <tr>\n",
              "      <th>std</th>\n",
              "      <td>30220.387557</td>\n",
              "      <td>9.922446</td>\n",
              "      <td>0.059494</td>\n",
              "      <td>0.624355</td>\n",
              "    </tr>\n",
              "    <tr>\n",
              "      <th>min</th>\n",
              "      <td>-1098.000000</td>\n",
              "      <td>-8.366667</td>\n",
              "      <td>0.664129</td>\n",
              "      <td>3.879000</td>\n",
              "    </tr>\n",
              "    <tr>\n",
              "      <th>25%</th>\n",
              "      <td>3867.115000</td>\n",
              "      <td>7.583333</td>\n",
              "      <td>0.708246</td>\n",
              "      <td>7.795000</td>\n",
              "    </tr>\n",
              "    <tr>\n",
              "      <th>50%</th>\n",
              "      <td>12049.065000</td>\n",
              "      <td>16.966667</td>\n",
              "      <td>0.743381</td>\n",
              "      <td>8.099000</td>\n",
              "    </tr>\n",
              "    <tr>\n",
              "      <th>75%</th>\n",
              "      <td>32349.850000</td>\n",
              "      <td>24.166667</td>\n",
              "      <td>0.781421</td>\n",
              "      <td>8.360000</td>\n",
              "    </tr>\n",
              "    <tr>\n",
              "      <th>max</th>\n",
              "      <td>293966.050000</td>\n",
              "      <td>33.827778</td>\n",
              "      <td>1.107674</td>\n",
              "      <td>9.765000</td>\n",
              "    </tr>\n",
              "  </tbody>\n",
              "</table>\n",
              "</div>"
            ],
            "text/plain": [
              "        weekly_sales  temperature_c  fuel_price_usd_per_l  unemployment\n",
              "count   10774.000000   10774.000000          10774.000000  10774.000000\n",
              "mean    23843.950149      15.731978              0.749746      8.082009\n",
              "std     30220.387557       9.922446              0.059494      0.624355\n",
              "min     -1098.000000      -8.366667              0.664129      3.879000\n",
              "25%      3867.115000       7.583333              0.708246      7.795000\n",
              "50%     12049.065000      16.966667              0.743381      8.099000\n",
              "75%     32349.850000      24.166667              0.781421      8.360000\n",
              "max    293966.050000      33.827778              1.107674      9.765000"
            ]
          },
          "metadata": {
            "tags": []
          },
          "execution_count": 31
        }
      ]
    },
    {
      "cell_type": "code",
      "metadata": {
        "id": "Pe_mUbRYfg0b"
      },
      "source": [
        "sl[num_data[0]].hist(grid = False)\n",
        "plt.title(num_data[0])\n",
        "plt.show()\n",
        "sl[num_data[1]].hist(grid = False)\n",
        "plt.title(num_data[1])\n",
        "plt.show()\n",
        "sl[num_data[2]].hist(grid = False)\n",
        "plt.title(num_data[2])\n",
        "plt.show()\n",
        "sl[num_data[3]].hist(grid = False)\n",
        "plt.title(num_data[3])\n",
        "plt.show()"
      ],
      "execution_count": null,
      "outputs": []
    },
    {
      "cell_type": "markdown",
      "metadata": {
        "id": "FmiN8rPPFeSK"
      },
      "source": [
        "1. *What are the store types and store departments*"
      ]
    },
    {
      "cell_type": "markdown",
      "metadata": {
        "id": "DYDw2YpTIHW4"
      },
      "source": [
        "There are **11** unique stores that are further identified by their store type ID and department ID. Store types are **A & B** with **10 A** but only **1 B** store. There are **80 departments**."
      ]
    },
    {
      "cell_type": "code",
      "metadata": {
        "id": "epssKaTNJZVs",
        "outputId": "7cd3f428-0c98-4ca8-b071-228849cfbe03",
        "colab": {
          "base_uri": "https://localhost:8080/",
          "height": 68
        }
      },
      "source": [
        "# Store Types\n",
        "types = sl.drop_duplicates(subset = \"type\").reset_index(drop = True) # Removing duplicates and removing the default indexes\n",
        "print(types[\"type\"])"
      ],
      "execution_count": null,
      "outputs": [
        {
          "output_type": "stream",
          "text": [
            "0    A\n",
            "1    B\n",
            "Name: type, dtype: object\n"
          ],
          "name": "stdout"
        }
      ]
    },
    {
      "cell_type": "code",
      "metadata": {
        "id": "J051KGIHFlci",
        "outputId": "2846bb89-c92c-4a8b-e1c0-dc839dd5ff52",
        "colab": {
          "base_uri": "https://localhost:8080/",
          "height": 221
        }
      },
      "source": [
        "# Getting unique department Ids\n",
        "store_depts = sl.drop_duplicates(subset = [\"department\"]).reset_index(drop = True)\n",
        "store_depts.sort_values(\"department\")[\"department\"]"
      ],
      "execution_count": null,
      "outputs": [
        {
          "output_type": "execute_result",
          "data": {
            "text/plain": [
              "0      1\n",
              "1      2\n",
              "2      3\n",
              "3      4\n",
              "4      5\n",
              "      ..\n",
              "72    95\n",
              "73    96\n",
              "74    97\n",
              "75    98\n",
              "76    99\n",
              "Name: department, Length: 80, dtype: int64"
            ]
          },
          "metadata": {
            "tags": []
          },
          "execution_count": 34
        }
      ]
    },
    {
      "cell_type": "code",
      "metadata": {
        "id": "TUizV_DvGpz1",
        "outputId": "3c1beb72-49e3-4f11-964c-02dccebb645e",
        "colab": {
          "base_uri": "https://localhost:8080/",
          "height": 238
        }
      },
      "source": [
        "# Getting all the unique stores\n",
        "store_types = sl.drop_duplicates(subset = [\"store\", \"type\"])\n",
        "store_types = store_types[[\"store\", \"type\"]].reset_index(drop = True)\n",
        "print(store_types)"
      ],
      "execution_count": null,
      "outputs": [
        {
          "output_type": "stream",
          "text": [
            "    store type\n",
            "0       1    A\n",
            "1       2    A\n",
            "2       4    A\n",
            "3       6    A\n",
            "4      10    B\n",
            "5      13    A\n",
            "6      14    A\n",
            "7      19    A\n",
            "8      20    A\n",
            "9      27    A\n",
            "10     31    A\n",
            "11     39    A\n"
          ],
          "name": "stdout"
        }
      ]
    },
    {
      "cell_type": "code",
      "metadata": {
        "id": "KyS6zEzj0PWK",
        "outputId": "072ac22a-66e6-4b8a-91ba-ebae713ccd72",
        "colab": {
          "base_uri": "https://localhost:8080/",
          "height": 221
        }
      },
      "source": [
        "# Getting all the unique dates\n",
        "dat = sl.drop_duplicates(\"date\")\n",
        "dat.date.sort_values().reset_index(drop = True, inplace = False)"
      ],
      "execution_count": null,
      "outputs": [
        {
          "output_type": "execute_result",
          "data": {
            "text/plain": [
              "0     2010-02-05\n",
              "1     2010-02-12\n",
              "2     2010-02-19\n",
              "3     2010-02-26\n",
              "4     2010-03-05\n",
              "         ...    \n",
              "118   2012-09-21\n",
              "119   2012-09-28\n",
              "120   2012-10-05\n",
              "121   2012-10-12\n",
              "122   2012-10-26\n",
              "Name: date, Length: 123, dtype: datetime64[ns]"
            ]
          },
          "metadata": {
            "tags": []
          },
          "execution_count": 36
        }
      ]
    },
    {
      "cell_type": "markdown",
      "metadata": {
        "id": "SHxKZomO2tq5"
      },
      "source": [
        "Store Ids with their total sale and average temperature"
      ]
    },
    {
      "cell_type": "code",
      "metadata": {
        "id": "nMk2lmke2tHp",
        "outputId": "cc53602f-52e5-4f75-87e6-240e2ec1677f",
        "colab": {
          "base_uri": "https://localhost:8080/",
          "height": 452
        }
      },
      "source": [
        "# Total weekly sales\n",
        "storeId_sales = sl.groupby(by = \"store\", axis = 0)[\"weekly_sales\"].agg([np.sum, np.mean])\n",
        "storeId_sales"
      ],
      "execution_count": null,
      "outputs": [
        {
          "output_type": "execute_result",
          "data": {
            "text/html": [
              "<div>\n",
              "<style scoped>\n",
              "    .dataframe tbody tr th:only-of-type {\n",
              "        vertical-align: middle;\n",
              "    }\n",
              "\n",
              "    .dataframe tbody tr th {\n",
              "        vertical-align: top;\n",
              "    }\n",
              "\n",
              "    .dataframe thead th {\n",
              "        text-align: right;\n",
              "    }\n",
              "</style>\n",
              "<table border=\"1\" class=\"dataframe\">\n",
              "  <thead>\n",
              "    <tr style=\"text-align: right;\">\n",
              "      <th></th>\n",
              "      <th>sum</th>\n",
              "      <th>mean</th>\n",
              "    </tr>\n",
              "    <tr>\n",
              "      <th>store</th>\n",
              "      <th></th>\n",
              "      <th></th>\n",
              "    </tr>\n",
              "  </thead>\n",
              "  <tbody>\n",
              "    <tr>\n",
              "      <th>1</th>\n",
              "      <td>18828144.55</td>\n",
              "      <td>20896.941787</td>\n",
              "    </tr>\n",
              "    <tr>\n",
              "      <th>2</th>\n",
              "      <td>23786139.34</td>\n",
              "      <td>26517.435162</td>\n",
              "    </tr>\n",
              "    <tr>\n",
              "      <th>4</th>\n",
              "      <td>23540414.45</td>\n",
              "      <td>26126.986071</td>\n",
              "    </tr>\n",
              "    <tr>\n",
              "      <th>6</th>\n",
              "      <td>19275700.71</td>\n",
              "      <td>21561.186477</td>\n",
              "    </tr>\n",
              "    <tr>\n",
              "      <th>10</th>\n",
              "      <td>23178403.89</td>\n",
              "      <td>25696.678370</td>\n",
              "    </tr>\n",
              "    <tr>\n",
              "      <th>13</th>\n",
              "      <td>23431368.47</td>\n",
              "      <td>25664.149474</td>\n",
              "    </tr>\n",
              "    <tr>\n",
              "      <th>14</th>\n",
              "      <td>26889842.67</td>\n",
              "      <td>30384.003017</td>\n",
              "    </tr>\n",
              "    <tr>\n",
              "      <th>19</th>\n",
              "      <td>18057339.37</td>\n",
              "      <td>19930.838157</td>\n",
              "    </tr>\n",
              "    <tr>\n",
              "      <th>20</th>\n",
              "      <td>25828317.41</td>\n",
              "      <td>28382.766385</td>\n",
              "    </tr>\n",
              "    <tr>\n",
              "      <th>27</th>\n",
              "      <td>21786727.24</td>\n",
              "      <td>24207.474711</td>\n",
              "    </tr>\n",
              "    <tr>\n",
              "      <th>31</th>\n",
              "      <td>16179249.68</td>\n",
              "      <td>18178.932225</td>\n",
              "    </tr>\n",
              "    <tr>\n",
              "      <th>39</th>\n",
              "      <td>16113071.12</td>\n",
              "      <td>18414.938423</td>\n",
              "    </tr>\n",
              "  </tbody>\n",
              "</table>\n",
              "</div>"
            ],
            "text/plain": [
              "               sum          mean\n",
              "store                           \n",
              "1      18828144.55  20896.941787\n",
              "2      23786139.34  26517.435162\n",
              "4      23540414.45  26126.986071\n",
              "6      19275700.71  21561.186477\n",
              "10     23178403.89  25696.678370\n",
              "13     23431368.47  25664.149474\n",
              "14     26889842.67  30384.003017\n",
              "19     18057339.37  19930.838157\n",
              "20     25828317.41  28382.766385\n",
              "27     21786727.24  24207.474711\n",
              "31     16179249.68  18178.932225\n",
              "39     16113071.12  18414.938423"
            ]
          },
          "metadata": {
            "tags": []
          },
          "execution_count": 37
        }
      ]
    },
    {
      "cell_type": "code",
      "metadata": {
        "id": "LS0Q7JcHePit",
        "outputId": "9cc81982-8a68-498d-e85e-633f026f53ab",
        "colab": {
          "base_uri": "https://localhost:8080/",
          "height": 255
        }
      },
      "source": [
        "# Average temperature\n",
        "storeId_avg_temp = sl.groupby(by = \"store\", axis = 0)[\"temperature_c\"].mean()\n",
        "storeId_avg_temp"
      ],
      "execution_count": null,
      "outputs": [
        {
          "output_type": "execute_result",
          "data": {
            "text/plain": [
              "store\n",
              "1     18.485707\n",
              "2     18.246755\n",
              "4     14.257011\n",
              "6     18.738423\n",
              "10    21.211327\n",
              "13    10.258945\n",
              "14    13.751557\n",
              "19    10.668758\n",
              "20    11.783010\n",
              "27    13.704944\n",
              "31    18.553308\n",
              "39    19.395619\n",
              "Name: temperature_c, dtype: float64"
            ]
          },
          "metadata": {
            "tags": []
          },
          "execution_count": 38
        }
      ]
    },
    {
      "cell_type": "code",
      "metadata": {
        "id": "e3WFrWPud176",
        "outputId": "c5b58e93-5784-45cb-987b-653689ce8afe",
        "colab": {
          "base_uri": "https://localhost:8080/",
          "height": 573
        }
      },
      "source": [
        "storeId_sales = sl.groupby(by = \"store\", axis = 0)[\"weekly_sales\"].sum()\n",
        "storeId_sales.plot(kind = \"bar\", rot = 0, color = \"green\", alpha = 0.5)\n",
        "plt.title(\"Store Ids total sales\")\n",
        "plt.ylabel(\"Total weekly sales\")\n",
        "plt.show()\n",
        "\n",
        "storeId_avg_temp = sl.groupby(by = \"store\", axis = 0)[\"temperature_c\"].mean()\n",
        "plt.title(\"Average Temperatures of Store Ids\")\n",
        "plt.ylabel(\"Avg Temp in degC\")\n",
        "storeId_avg_temp.plot(kind = \"bar\", rot = 0, color = \"orange\", alpha = 0.3)\n",
        "plt.show()"
      ],
      "execution_count": null,
      "outputs": [
        {
          "output_type": "display_data",
          "data": {
            "image/png": "[encoded data removed]",
            "text/plain": [
              "<Figure size 432x288 with 1 Axes>"
            ]
          },
          "metadata": {
            "tags": [],
            "needs_background": "light"
          }
        },
        {
          "output_type": "display_data",
          "data": {
            "image/png": "[encoded data removed]",
            "text/plain": [
              "<Figure size 432x288 with 1 Axes>"
            ]
          },
          "metadata": {
            "tags": [],
            "needs_background": "light"
          }
        }
      ]
    },
    {
      "cell_type": "markdown",
      "metadata": {
        "id": "n9z-FgGKAe8l"
      },
      "source": [
        "**Date wise weekly sales**\\\n",
        "Except for 12 days between Jan 2010 to Jan 2011, average weekly sales have been very low and sales frequency being high between May 2011 to May 2012"
      ]
    },
    {
      "cell_type": "code",
      "metadata": {
        "id": "_DyHZ3sFALH1"
      },
      "source": [
        "sales_byDate = sl.pivot_table(values = \"weekly_sales\", index = \"date\", aggfunc=[np.sum, np.mean])\n",
        "sales_byDate"
      ],
      "execution_count": null,
      "outputs": []
    },
    {
      "cell_type": "code",
      "metadata": {
        "id": "98zlTtON2QXD",
        "outputId": "159cac7b-550b-4364-9070-03a9e4724ac7",
        "colab": {
          "base_uri": "https://localhost:8080/",
          "height": 293
        }
      },
      "source": [
        "# Plotting\n",
        "fig, ax = plt.subplots(1,1)\n",
        "y = sales_byDate.iloc[:, 0]\n",
        "x = pd.Series(sales_byDate.index)\n",
        "ax.scatter(x,y, marker = \"o\", linestyle = \"dotted\", color = \"g\", alpha = 0.5)\n",
        "\n",
        "# Labelling\n",
        "ax.set_xlabel(\"Date\")\n",
        "ax.set_ylabel(\"Average weekly sales [in 10 million usd]\")\n",
        "ax.set_title(\"    Date wise average weekly sales [in 10 million usd]\")\n",
        "\n",
        "# Autofit\n",
        "fig.autofmt_xdate()\n",
        "plt.show()"
      ],
      "execution_count": null,
      "outputs": [
        {
          "output_type": "display_data",
          "data": {
            "image/png": "[encoded data removed]",
            "text/plain": [
              "<Figure size 432x288 with 1 Axes>"
            ]
          },
          "metadata": {
            "tags": [],
            "needs_background": "light"
          }
        }
      ]
    },
    {
      "cell_type": "markdown",
      "metadata": {
        "id": "nbvbxrL8WD9o"
      },
      "source": [
        "**Department wise weekly sales**"
      ]
    },
    {
      "cell_type": "code",
      "metadata": {
        "id": "aHVoABkbEw5H",
        "outputId": "eb7b6577-b17e-4a85-999d-fb9183f99ba8",
        "colab": {
          "base_uri": "https://localhost:8080/",
          "height": 238
        }
      },
      "source": [
        "sales_bydept = sl.groupby(by = \"department\")[\"weekly_sales\"].sum()\n",
        "sales_bydept"
      ],
      "execution_count": null,
      "outputs": [
        {
          "output_type": "execute_result",
          "data": {
            "text/plain": [
              "department\n",
              "1      4615555.27\n",
              "2     10278723.28\n",
              "3      2632088.25\n",
              "4      6460308.53\n",
              "5      5355216.00\n",
              "         ...     \n",
              "95    17284245.13\n",
              "96     2806589.86\n",
              "97     3828153.72\n",
              "98     1702165.00\n",
              "99       46632.21\n",
              "Name: weekly_sales, Length: 80, dtype: float64"
            ]
          },
          "metadata": {
            "tags": []
          },
          "execution_count": 66
        }
      ]
    },
    {
      "cell_type": "markdown",
      "metadata": {
        "id": "kjVarsEg0uuM"
      },
      "source": [
        "Finding out if there is any correlation between the numerical variables"
      ]
    },
    {
      "cell_type": "code",
      "metadata": {
        "id": "Cq8Adpp2ynn0",
        "outputId": "ce199e53-16e5-45bd-a436-cab035801f1c",
        "colab": {
          "base_uri": "https://localhost:8080/",
          "height": 282
        }
      },
      "source": [
        "temp = sl.iloc[:,6] \n",
        "fuel = sl.iloc[:,7]\n",
        "emp = sl.iloc[:, 8]\n",
        "ws = sl.iloc[:, 4]\n",
        "plt.scatter(temp, ws)"
      ],
      "execution_count": null,
      "outputs": [
        {
          "output_type": "execute_result",
          "data": {
            "text/plain": [
              "<matplotlib.collections.PathCollection at 0x7efe55973ac8>"
            ]
          },
          "metadata": {
            "tags": []
          },
          "execution_count": 43
        },
        {
          "output_type": "display_data",
          "data": {
            "image/png": "[encoded data removed]",
            "text/plain": [
              "<Figure size 432x288 with 1 Axes>"
            ]
          },
          "metadata": {
            "tags": [],
            "needs_background": "light"
          }
        }
      ]
    }
  ]
}